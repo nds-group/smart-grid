{
 "cells": [
  {
   "cell_type": "code",
   "execution_count": 76,
   "metadata": {},
   "outputs": [],
   "source": [
    "import pandas as pd\n",
    "import numpy as np\n",
    "import numpy as np\n",
    "import pandas as pd \n",
    "import pickle\n",
    "import matplotlib as mpl\n",
    "import matplotlib.pyplot as plt\n",
    "import seaborn as sns\n",
    "from sklearn.ensemble import RandomForestClassifier\n",
    "from sklearn.metrics import classification_report, confusion_matrix\n",
    "from sklearn.tree import DecisionTreeClassifier\n",
    "pd.options.mode.chained_assignment = None\n",
    "from IPython.display import display, HTML\n",
    "from sklearn.model_selection import train_test_split\n",
    "\n",
    "import warnings\n",
    "warnings.filterwarnings(\"ignore\")"
   ]
  },
  {
   "cell_type": "markdown",
   "metadata": {},
   "source": [
    "#### Functions to be used for model and feature selection"
   ]
  },
  {
   "cell_type": "code",
   "execution_count": 50,
   "metadata": {},
   "outputs": [],
   "source": [
    "### Function to save final model for later use\n",
    "def save_model(RF, filename):\n",
    "    pickle.dump(RF, open(filename, 'wb'))\n",
    "\n",
    "# Function to Fit model based on optimal values of number of estimators and use it to compute feature importance for all the features.\n",
    "def get_feature_importance(n_tree, max_leaf, X_train, y_train, model_type):\n",
    "    \n",
    "    if model_type == 'RF':\n",
    "        rf_opt = RandomForestClassifier(n_estimators = n_tree, max_leaf_nodes=max_leaf, random_state=42, bootstrap=False)\n",
    "\n",
    "    elif model_type == 'DT':\n",
    "        rf_opt = DecisionTreeClassifier(max_leaf_nodes=max_leaf, random_state=42)    \n",
    "\n",
    "    rf_opt.fit(X_train, y_train)\n",
    "    feature_importance = pd.DataFrame(rf_opt.feature_importances_)\n",
    "    feature_importance.index = X_train.columns\n",
    "    feature_importance = feature_importance.sort_values(by=list(feature_importance.columns), axis=0, ascending=False)\n",
    "    \n",
    "    return feature_importance\n",
    "\n",
    "\n",
    "#Function to Fit model based on optimal values of depth and number of estimators and feature importance\n",
    "# to find the fewest possible features to exceed the previously attained score with all selected features\n",
    "def get_fewest_features(importance):    \n",
    "    sorted_feature_names = importance.index\n",
    "    features = []\n",
    "    for f in range(1,len(sorted_feature_names)+1):\n",
    "        features.append(sorted_feature_names[0:f])\n",
    "    return features\n",
    "\n",
    "def get_result_scores(classes, cl_report):\n",
    "    precision=[]\n",
    "    recall=[]\n",
    "    f1_score=[]\n",
    "    supports=[]\n",
    "    for a_class in classes:\n",
    "        precision.append(cl_report[a_class]['precision'])\n",
    "        recall.append(cl_report[a_class]['recall'])\n",
    "        f1_score.append(cl_report[a_class]['f1-score'])\n",
    "        supports.append(cl_report[a_class]['support'])\n",
    "    return precision, recall, f1_score, supports\n",
    "\n",
    "\n",
    "def get_scores(classes, n_tree, feats, max_leaf, X_train, y_train, X_test, y_test,model_type):      \n",
    "                        \n",
    "    if model_type == 'RF':\n",
    "        model = RandomForestClassifier(n_estimators = n_tree, max_leaf_nodes=max_leaf, random_state=42, bootstrap=False)\n",
    "\n",
    "    elif model_type == 'DT':\n",
    "        model = DecisionTreeClassifier(max_leaf_nodes=max_leaf, random_state=42) \n",
    "\n",
    "    model.fit(X_train[feats], y_train)\n",
    "    y_pred = model.predict(X_test[feats])\n",
    "\n",
    "    class_report = classification_report(y_test, y_pred, target_names=classes, output_dict = True)\n",
    "    \n",
    "    macro_score = class_report['macro avg']['f1-score']\n",
    "    weighted_score = class_report['weighted avg']['f1-score']\n",
    "\n",
    "    return model, class_report, macro_score, weighted_score, y_pred\n",
    "\n",
    "\n",
    "def get_x_y(Dataset, classes, feats):\n",
    "    Dataset = Dataset[Dataset[\"label\"].isin(classes)]    \n",
    "    X = Dataset[feats]\n",
    "    y = Dataset['label'].replace(classes, range(len(classes)))\n",
    "    return X, y\n",
    "\n",
    "def analyze_models(classes, model_type, n_trees, X_train, y_train, X_test, y_test, max_leaf, filename_out):\n",
    "    with open(filename_out, \"w\") as res_file:\n",
    "        print('tree;n_feat;macro;weighted;feats', file=res_file)\n",
    "        if model_type == 'RF':\n",
    "            # FOR EACH (n_tree, feat)\n",
    "            for n_tree in n_trees:\n",
    "                # get feature orders to use\n",
    "                importance = get_feature_importance(n_tree, max_leaf, X_train, y_train,model_type)\n",
    "                m_feats = get_fewest_features(importance) \n",
    "                for feats in m_feats:\n",
    "                    # Get the scores with the given (n_tree, feat)\n",
    "                    model, c_report, macro_f1, weight_f1, y_pred = get_scores(classes, n_tree, feats, max_leaf, X_train, y_train, X_test, y_test,model_type)\n",
    "                    print(str(n_tree)+';'+str(len(feats))+';'+str(macro_f1)+';'+str(weight_f1)+';'+str(list(feats)), file=res_file)\n",
    "\n",
    "        elif model_type == 'DT':\n",
    "            importance = get_feature_importance(0, max_leaf, X_train, y_train,model_type)\n",
    "            m_feats = get_fewest_features(importance) \n",
    "            for feats in m_feats:\n",
    "                # Get the scores with the given (n_tree, feat)\n",
    "                model, c_report, macro_f1, weight_f1, y_pred = get_scores(classes, 0, feats, max_leaf, X_train, y_train, X_test, y_test,model_type)\n",
    "                print(str(0)+';'+str(len(feats))+';'+str(macro_f1)+';'+str(weight_f1)+';'+str(list(feats)), file=res_file)\n",
    "    print(\"Analysis Complete. Check output file.\")\n",
    "    return []"
   ]
  },
  {
   "cell_type": "markdown",
   "metadata": {},
   "source": [
    "#### Load cleaned data"
   ]
  },
  {
   "cell_type": "code",
   "execution_count": 112,
   "metadata": {},
   "outputs": [],
   "source": [
    "# Load the labeled file and print number of rows per label\n",
    "df_train = pd.read_csv(\"./TRAIN_DATA_PKT.csv\")\n",
    "df_test = pd.read_csv(\"./TEST_DATA_PKT.csv\")"
   ]
  },
  {
   "cell_type": "code",
   "execution_count": 113,
   "metadata": {},
   "outputs": [
    {
     "name": "stdout",
     "output_type": "stream",
     "text": [
      "NORMAL                 1214719\n",
      "DISABLE_UNSOLICITED     874027\n",
      "COLD_RESTART            867299\n",
      "WARM_RESTART            865689\n",
      "INIT_DATA               102657\n",
      "STOP_APP                 34320\n",
      "DNP3_ENUMERATE           30316\n",
      "DNP3_INFO                26414\n",
      "REPLAY                    7592\n",
      "No Label                  2026\n",
      "MITM_DOS                   120\n",
      "Name: label, dtype: int64\n"
     ]
    }
   ],
   "source": [
    "print(df_train['label'].value_counts())"
   ]
  },
  {
   "cell_type": "code",
   "execution_count": 114,
   "metadata": {},
   "outputs": [
    {
     "name": "stdout",
     "output_type": "stream",
     "text": [
      "NORMAL                 398434\n",
      "WARM_RESTART           288784\n",
      "COLD_RESTART           287102\n",
      "DISABLE_UNSOLICITED    280686\n",
      "INIT_DATA               34073\n",
      "STOP_APP                11386\n",
      "DNP3_ENUMERATE           9570\n",
      "DNP3_INFO                8826\n",
      "REPLAY                   3101\n",
      "No Label                  466\n",
      "Name: label, dtype: int64\n"
     ]
    }
   ],
   "source": [
    "print(df_test['label'].value_counts())"
   ]
  },
  {
   "cell_type": "code",
   "execution_count": 115,
   "metadata": {},
   "outputs": [],
   "source": [
    "# We use 7 representative classes for our analysis\n",
    "classes = ['NORMAL', 'DISABLE_UNSOLICITED', 'COLD_RESTART', 'WARM_RESTART', 'INIT_DATA', 'REPLAY', 'STOP_APP']\n",
    "\n",
    "# select data for the 7 classes\n",
    "df_train = df_train[df_train['label'].isin(classes)]\n",
    "df_test  = df_test[df_test['label'].isin(classes)]\n",
    "\n",
    "# Normalize the tcp.hdr_len as it is a 4 bit number in the switch\n",
    "df_train['tcp.hdr_len'] = df_train['tcp.hdr_len']/4\n",
    "df_test['tcp.hdr_len'] = df_test['tcp.hdr_len']/4\n",
    "\n",
    "# features for feature and model selection process\n",
    "features = ['ip.len', 'tcp.flags.syn', 'tcp.flags.ack', 'tcp.flags.push',\n",
    "       'tcp.flags.fin', 'tcp.flags.reset', 'ip.proto', 'ip.ttl', 'srcport',\n",
    "       'dstport', 'tcp.window_size_value', 'tcp.hdr_len', 'udp.length']"
   ]
  },
  {
   "cell_type": "code",
   "execution_count": 116,
   "metadata": {},
   "outputs": [],
   "source": [
    "#we separate the data into features and labels and then numerize the labels\n",
    "X_train, X_test, y_train, y_test = df_train[features], df_test[features], df_train['label'], df_test['label']\n",
    "\n",
    "y_train = y_train.replace(classes, range(len(classes)))\n",
    "y_test = y_test.replace(classes, range(len(classes)))"
   ]
  },
  {
   "cell_type": "code",
   "execution_count": 117,
   "metadata": {},
   "outputs": [
    {
     "data": {
      "text/plain": [
       "0    1214719\n",
       "1     874027\n",
       "2     867299\n",
       "3     865689\n",
       "4     102657\n",
       "6      34320\n",
       "5       7592\n",
       "Name: label, dtype: int64"
      ]
     },
     "execution_count": 117,
     "metadata": {},
     "output_type": "execute_result"
    }
   ],
   "source": [
    "y_train.value_counts()"
   ]
  },
  {
   "cell_type": "code",
   "execution_count": 118,
   "metadata": {},
   "outputs": [
    {
     "data": {
      "text/plain": [
       "0    398434\n",
       "3    288784\n",
       "2    287102\n",
       "1    280686\n",
       "4     34073\n",
       "6     11386\n",
       "5      3101\n",
       "Name: label, dtype: int64"
      ]
     },
     "execution_count": 118,
     "metadata": {},
     "output_type": "execute_result"
    }
   ],
   "source": [
    "y_test.value_counts()"
   ]
  },
  {
   "cell_type": "markdown",
   "metadata": {},
   "source": [
    "#### Analyze the features and model combinations for both DT and RF"
   ]
  },
  {
   "cell_type": "code",
   "execution_count": 58,
   "metadata": {},
   "outputs": [
    {
     "name": "stdout",
     "output_type": "stream",
     "text": [
      "Analysis Complete. Check output file.\n"
     ]
    },
    {
     "data": {
      "text/plain": [
       "[]"
      ]
     },
     "execution_count": 58,
     "metadata": {},
     "output_type": "execute_result"
    }
   ],
   "source": [
    "analyze_models(classes, \"DT\", range(1,5,1), X_train, y_train, X_test, y_test, 500, \"PKT_models_7_21_02_DT.csv\")"
   ]
  },
  {
   "cell_type": "code",
   "execution_count": 59,
   "metadata": {},
   "outputs": [
    {
     "name": "stdout",
     "output_type": "stream",
     "text": [
      "Analysis Complete. Check output file.\n"
     ]
    },
    {
     "data": {
      "text/plain": [
       "[]"
      ]
     },
     "execution_count": 59,
     "metadata": {},
     "output_type": "execute_result"
    }
   ],
   "source": [
    "analyze_models(classes, \"RF\", range(1,8,2), X_train, y_train, X_test, y_test, 500, \"PKT_models_7_21_02_RF.csv\")"
   ]
  },
  {
   "cell_type": "code",
   "execution_count": 60,
   "metadata": {},
   "outputs": [],
   "source": [
    "results_dt, results_rf = pd.read_csv(\"PKT_models_7_21_02_DT.csv\", delimiter=\";\"), pd.read_csv(\"PKT_models_7_21_02_RF.csv\", delimiter=\";\")\n",
    "results_dt = results_dt.sort_values(by=['macro','weighted'],ascending=False)\n",
    "results_rf = results_rf.sort_values(by=['macro','weighted'],ascending=False)"
   ]
  },
  {
   "cell_type": "code",
   "execution_count": 61,
   "metadata": {},
   "outputs": [
    {
     "data": {
      "text/html": [
       "<div>\n",
       "<style scoped>\n",
       "    .dataframe tbody tr th:only-of-type {\n",
       "        vertical-align: middle;\n",
       "    }\n",
       "\n",
       "    .dataframe tbody tr th {\n",
       "        vertical-align: top;\n",
       "    }\n",
       "\n",
       "    .dataframe thead th {\n",
       "        text-align: right;\n",
       "    }\n",
       "</style>\n",
       "<table border=\"1\" class=\"dataframe\">\n",
       "  <thead>\n",
       "    <tr style=\"text-align: right;\">\n",
       "      <th></th>\n",
       "      <th>tree</th>\n",
       "      <th>n_feat</th>\n",
       "      <th>macro</th>\n",
       "      <th>weighted</th>\n",
       "      <th>feats</th>\n",
       "    </tr>\n",
       "  </thead>\n",
       "  <tbody>\n",
       "    <tr>\n",
       "      <th>3</th>\n",
       "      <td>0</td>\n",
       "      <td>4</td>\n",
       "      <td>0.986905</td>\n",
       "      <td>0.99958</td>\n",
       "      <td>['srcport', 'dstport', 'tcp.hdr_len', 'ip.len']</td>\n",
       "    </tr>\n",
       "    <tr>\n",
       "      <th>4</th>\n",
       "      <td>0</td>\n",
       "      <td>5</td>\n",
       "      <td>0.986905</td>\n",
       "      <td>0.99958</td>\n",
       "      <td>['srcport', 'dstport', 'tcp.hdr_len', 'ip.len'...</td>\n",
       "    </tr>\n",
       "    <tr>\n",
       "      <th>5</th>\n",
       "      <td>0</td>\n",
       "      <td>6</td>\n",
       "      <td>0.986905</td>\n",
       "      <td>0.99958</td>\n",
       "      <td>['srcport', 'dstport', 'tcp.hdr_len', 'ip.len'...</td>\n",
       "    </tr>\n",
       "    <tr>\n",
       "      <th>6</th>\n",
       "      <td>0</td>\n",
       "      <td>7</td>\n",
       "      <td>0.986905</td>\n",
       "      <td>0.99958</td>\n",
       "      <td>['srcport', 'dstport', 'tcp.hdr_len', 'ip.len'...</td>\n",
       "    </tr>\n",
       "    <tr>\n",
       "      <th>7</th>\n",
       "      <td>0</td>\n",
       "      <td>8</td>\n",
       "      <td>0.986905</td>\n",
       "      <td>0.99958</td>\n",
       "      <td>['srcport', 'dstport', 'tcp.hdr_len', 'ip.len'...</td>\n",
       "    </tr>\n",
       "    <tr>\n",
       "      <th>8</th>\n",
       "      <td>0</td>\n",
       "      <td>9</td>\n",
       "      <td>0.986905</td>\n",
       "      <td>0.99958</td>\n",
       "      <td>['srcport', 'dstport', 'tcp.hdr_len', 'ip.len'...</td>\n",
       "    </tr>\n",
       "    <tr>\n",
       "      <th>9</th>\n",
       "      <td>0</td>\n",
       "      <td>10</td>\n",
       "      <td>0.986905</td>\n",
       "      <td>0.99958</td>\n",
       "      <td>['srcport', 'dstport', 'tcp.hdr_len', 'ip.len'...</td>\n",
       "    </tr>\n",
       "    <tr>\n",
       "      <th>10</th>\n",
       "      <td>0</td>\n",
       "      <td>11</td>\n",
       "      <td>0.986905</td>\n",
       "      <td>0.99958</td>\n",
       "      <td>['srcport', 'dstport', 'tcp.hdr_len', 'ip.len'...</td>\n",
       "    </tr>\n",
       "    <tr>\n",
       "      <th>11</th>\n",
       "      <td>0</td>\n",
       "      <td>12</td>\n",
       "      <td>0.986905</td>\n",
       "      <td>0.99958</td>\n",
       "      <td>['srcport', 'dstport', 'tcp.hdr_len', 'ip.len'...</td>\n",
       "    </tr>\n",
       "    <tr>\n",
       "      <th>12</th>\n",
       "      <td>0</td>\n",
       "      <td>13</td>\n",
       "      <td>0.986905</td>\n",
       "      <td>0.99958</td>\n",
       "      <td>['srcport', 'dstport', 'tcp.hdr_len', 'ip.len'...</td>\n",
       "    </tr>\n",
       "  </tbody>\n",
       "</table>\n",
       "</div>"
      ],
      "text/plain": [
       "    tree  n_feat     macro  weighted  \\\n",
       "3      0       4  0.986905   0.99958   \n",
       "4      0       5  0.986905   0.99958   \n",
       "5      0       6  0.986905   0.99958   \n",
       "6      0       7  0.986905   0.99958   \n",
       "7      0       8  0.986905   0.99958   \n",
       "8      0       9  0.986905   0.99958   \n",
       "9      0      10  0.986905   0.99958   \n",
       "10     0      11  0.986905   0.99958   \n",
       "11     0      12  0.986905   0.99958   \n",
       "12     0      13  0.986905   0.99958   \n",
       "\n",
       "                                                feats  \n",
       "3     ['srcport', 'dstport', 'tcp.hdr_len', 'ip.len']  \n",
       "4   ['srcport', 'dstport', 'tcp.hdr_len', 'ip.len'...  \n",
       "5   ['srcport', 'dstport', 'tcp.hdr_len', 'ip.len'...  \n",
       "6   ['srcport', 'dstport', 'tcp.hdr_len', 'ip.len'...  \n",
       "7   ['srcport', 'dstport', 'tcp.hdr_len', 'ip.len'...  \n",
       "8   ['srcport', 'dstport', 'tcp.hdr_len', 'ip.len'...  \n",
       "9   ['srcport', 'dstport', 'tcp.hdr_len', 'ip.len'...  \n",
       "10  ['srcport', 'dstport', 'tcp.hdr_len', 'ip.len'...  \n",
       "11  ['srcport', 'dstport', 'tcp.hdr_len', 'ip.len'...  \n",
       "12  ['srcport', 'dstport', 'tcp.hdr_len', 'ip.len'...  "
      ]
     },
     "execution_count": 61,
     "metadata": {},
     "output_type": "execute_result"
    }
   ],
   "source": [
    "results_dt.head(10)"
   ]
  },
  {
   "cell_type": "code",
   "execution_count": 111,
   "metadata": {},
   "outputs": [
    {
     "data": {
      "text/html": [
       "<div>\n",
       "<style scoped>\n",
       "    .dataframe tbody tr th:only-of-type {\n",
       "        vertical-align: middle;\n",
       "    }\n",
       "\n",
       "    .dataframe tbody tr th {\n",
       "        vertical-align: top;\n",
       "    }\n",
       "\n",
       "    .dataframe thead th {\n",
       "        text-align: right;\n",
       "    }\n",
       "</style>\n",
       "<table border=\"1\" class=\"dataframe\">\n",
       "  <thead>\n",
       "    <tr style=\"text-align: right;\">\n",
       "      <th></th>\n",
       "      <th>tree</th>\n",
       "      <th>n_feat</th>\n",
       "      <th>macro</th>\n",
       "      <th>weighted</th>\n",
       "      <th>feats</th>\n",
       "    </tr>\n",
       "  </thead>\n",
       "  <tbody>\n",
       "    <tr>\n",
       "      <th>16</th>\n",
       "      <td>3</td>\n",
       "      <td>4</td>\n",
       "      <td>0.987283</td>\n",
       "      <td>0.999593</td>\n",
       "      <td>['srcport', 'dstport', 'tcp.window_size_value'...</td>\n",
       "    </tr>\n",
       "    <tr>\n",
       "      <th>3</th>\n",
       "      <td>1</td>\n",
       "      <td>4</td>\n",
       "      <td>0.986625</td>\n",
       "      <td>0.998585</td>\n",
       "      <td>['srcport', 'dstport', 'tcp.window_size_value'...</td>\n",
       "    </tr>\n",
       "    <tr>\n",
       "      <th>2</th>\n",
       "      <td>1</td>\n",
       "      <td>3</td>\n",
       "      <td>0.985765</td>\n",
       "      <td>0.999545</td>\n",
       "      <td>['srcport', 'dstport', 'tcp.window_size_value']</td>\n",
       "    </tr>\n",
       "    <tr>\n",
       "      <th>14</th>\n",
       "      <td>3</td>\n",
       "      <td>2</td>\n",
       "      <td>0.985765</td>\n",
       "      <td>0.999545</td>\n",
       "      <td>['srcport', 'dstport']</td>\n",
       "    </tr>\n",
       "    <tr>\n",
       "      <th>15</th>\n",
       "      <td>3</td>\n",
       "      <td>3</td>\n",
       "      <td>0.985765</td>\n",
       "      <td>0.999545</td>\n",
       "      <td>['srcport', 'dstport', 'tcp.window_size_value']</td>\n",
       "    </tr>\n",
       "    <tr>\n",
       "      <th>27</th>\n",
       "      <td>5</td>\n",
       "      <td>2</td>\n",
       "      <td>0.985765</td>\n",
       "      <td>0.999545</td>\n",
       "      <td>['srcport', 'dstport']</td>\n",
       "    </tr>\n",
       "    <tr>\n",
       "      <th>28</th>\n",
       "      <td>5</td>\n",
       "      <td>3</td>\n",
       "      <td>0.985765</td>\n",
       "      <td>0.999545</td>\n",
       "      <td>['srcport', 'dstport', 'tcp.window_size_value']</td>\n",
       "    </tr>\n",
       "    <tr>\n",
       "      <th>29</th>\n",
       "      <td>5</td>\n",
       "      <td>4</td>\n",
       "      <td>0.985765</td>\n",
       "      <td>0.999545</td>\n",
       "      <td>['srcport', 'dstport', 'tcp.window_size_value'...</td>\n",
       "    </tr>\n",
       "    <tr>\n",
       "      <th>40</th>\n",
       "      <td>7</td>\n",
       "      <td>2</td>\n",
       "      <td>0.985765</td>\n",
       "      <td>0.999545</td>\n",
       "      <td>['srcport', 'dstport']</td>\n",
       "    </tr>\n",
       "    <tr>\n",
       "      <th>41</th>\n",
       "      <td>7</td>\n",
       "      <td>3</td>\n",
       "      <td>0.985765</td>\n",
       "      <td>0.999545</td>\n",
       "      <td>['srcport', 'dstport', 'tcp.window_size_value']</td>\n",
       "    </tr>\n",
       "  </tbody>\n",
       "</table>\n",
       "</div>"
      ],
      "text/plain": [
       "    tree  n_feat     macro  weighted  \\\n",
       "16     3       4  0.987283  0.999593   \n",
       "3      1       4  0.986625  0.998585   \n",
       "2      1       3  0.985765  0.999545   \n",
       "14     3       2  0.985765  0.999545   \n",
       "15     3       3  0.985765  0.999545   \n",
       "27     5       2  0.985765  0.999545   \n",
       "28     5       3  0.985765  0.999545   \n",
       "29     5       4  0.985765  0.999545   \n",
       "40     7       2  0.985765  0.999545   \n",
       "41     7       3  0.985765  0.999545   \n",
       "\n",
       "                                                feats  \n",
       "16  ['srcport', 'dstport', 'tcp.window_size_value'...  \n",
       "3   ['srcport', 'dstport', 'tcp.window_size_value'...  \n",
       "2     ['srcport', 'dstport', 'tcp.window_size_value']  \n",
       "14                             ['srcport', 'dstport']  \n",
       "15    ['srcport', 'dstport', 'tcp.window_size_value']  \n",
       "27                             ['srcport', 'dstport']  \n",
       "28    ['srcport', 'dstport', 'tcp.window_size_value']  \n",
       "29  ['srcport', 'dstport', 'tcp.window_size_value'...  \n",
       "40                             ['srcport', 'dstport']  \n",
       "41    ['srcport', 'dstport', 'tcp.window_size_value']  "
      ]
     },
     "execution_count": 111,
     "metadata": {},
     "output_type": "execute_result"
    }
   ],
   "source": [
    "results_rf.head(10)"
   ]
  },
  {
   "cell_type": "code",
   "execution_count": 89,
   "metadata": {},
   "outputs": [
    {
     "data": {
      "text/plain": [
       "0.037799999999998946"
      ]
     },
     "execution_count": 89,
     "metadata": {},
     "output_type": "execute_result"
    }
   ],
   "source": [
    "# performance gap RF - DT: Macro F1\n",
    "(0.987283 - 0.986905)*100"
   ]
  },
  {
   "cell_type": "code",
   "execution_count": 90,
   "metadata": {},
   "outputs": [
    {
     "data": {
      "text/plain": [
       "0.0012999999999929734"
      ]
     },
     "execution_count": 90,
     "metadata": {},
     "output_type": "execute_result"
    }
   ],
   "source": [
    "# performance gap RF - DT: Weighted F1\n",
    "(0.999593 - 0.99958)*100"
   ]
  },
  {
   "cell_type": "markdown",
   "metadata": {},
   "source": [
    "#### Train and save final selected model"
   ]
  },
  {
   "cell_type": "code",
   "execution_count": 95,
   "metadata": {},
   "outputs": [
    {
     "name": "stdout",
     "output_type": "stream",
     "text": [
      "{'NORMAL': {'precision': 0.9988616190084552, 'recall': 0.9998092532263813, 'f1-score': 0.9993352114654699, 'support': 398434}, 'DISABLE_UNSOLICITED': {'precision': 1.0, 'recall': 1.0, 'f1-score': 1.0, 'support': 280686}, 'COLD_RESTART': {'precision': 1.0, 'recall': 1.0, 'f1-score': 1.0, 'support': 287102}, 'WARM_RESTART': {'precision': 1.0, 'recall': 1.0, 'f1-score': 1.0, 'support': 288784}, 'INIT_DATA': {'precision': 1.0, 'recall': 1.0, 'f1-score': 1.0, 'support': 34073}, 'REPLAY': {'precision': 0.9720896070510466, 'recall': 0.8535956143179619, 'f1-score': 0.9089972527472528, 'support': 3101}, 'STOP_APP': {'precision': 1.0, 'recall': 1.0, 'f1-score': 1.0, 'support': 11386}, 'accuracy': 0.9995934229643916, 'macro avg': {'precision': 0.9958501751513573, 'recall': 0.9790578382206204, 'f1-score': 0.9869046377446746, 'support': 1303566}, 'weighted avg': {'precision': 0.9995856597820748, 'recall': 0.9995934229643916, 'f1-score': 0.9995803251433394, 'support': 1303566}}\n"
     ]
    }
   ],
   "source": [
    "# We train the final selected model\n",
    "# From analysis, DT and RF have similar top scores so we pick DT with 4 features as it is simpler\n",
    "dt = DecisionTreeClassifier(random_state=42, max_leaf_nodes=500)\n",
    "\n",
    "# Train the model\n",
    "dt.fit(X_train[['srcport', 'dstport', 'tcp.hdr_len', 'ip.len']], y_train)\n",
    "\n",
    "# Make predictions on the test set\n",
    "y_pred = dt.predict(X_test[['srcport', 'dstport', 'tcp.hdr_len', 'ip.len']])\n",
    "\n",
    "# Evaluate the model\n",
    "report = classification_report(y_test, y_pred,target_names=classes, output_dict=True)\n",
    "print(report)\n"
   ]
  },
  {
   "cell_type": "code",
   "execution_count": 64,
   "metadata": {},
   "outputs": [
    {
     "name": "stdout",
     "output_type": "stream",
     "text": [
      "Number of bits in P4:  111\n"
     ]
    }
   ],
   "source": [
    "# we check the number of bits that the code words will have in P4\n",
    "nbitsp4 = dt.tree_.node_count - dt.tree_.n_leaves\n",
    "print(\"Number of bits in P4: \", nbitsp4)"
   ]
  },
  {
   "cell_type": "code",
   "execution_count": 65,
   "metadata": {},
   "outputs": [],
   "source": [
    "# save the model for use in p4\n",
    "save_model(dt, \"dt_model_dnp3_7_classes.pkl\")"
   ]
  },
  {
   "cell_type": "code",
   "execution_count": 93,
   "metadata": {},
   "outputs": [
    {
     "name": "stdout",
     "output_type": "stream",
     "text": [
      "Depth of the decision tree: 36\n"
     ]
    }
   ],
   "source": [
    "depth = dt.tree_.max_depth\n",
    "print(\"Depth of the decision tree:\", depth)"
   ]
  },
  {
   "cell_type": "code",
   "execution_count": 97,
   "metadata": {},
   "outputs": [],
   "source": [
    "def calculate_scores_fpr_tpr(y_true, y_pred, classes,labels):\n",
    "\n",
    "    cm = confusion_matrix(y_true, y_pred)\n",
    "    metrics_table = []\n",
    "\n",
    "    for i in range(len(classes)):\n",
    "        TP = cm[i, i]\n",
    "        FN = sum(cm[i, :]) - TP\n",
    "        FP = sum(cm[:, i]) - TP\n",
    "        TN = sum(sum(cm)) - TP - FP - FN\n",
    "\n",
    "        # precision, recall, f1_score, _ = precision_recall_fscore_support(y_true, y_pred, labels=[i])\n",
    "        TPR = (TP / (TP + FN)) if TP + FN != 0 else 0\n",
    "        FPR = (FP / (FP + TN)) if FP + TN != 0 else 0\n",
    "        TNR = (TN / (TN + FP)) if TN + FP != 0 else 0\n",
    "        FNR = (FN / (FN + TP)) if FN + TP != 0 else 0\n",
    "        f1_score = (2*TP)/((2*TP)+FP+FN)\n",
    "\n",
    "        metrics_table.append([f1_score, TPR, FPR, TNR, FNR])\n",
    "    \n",
    "    metrics_table = np.array(metrics_table)\n",
    "    macro_avg = np.mean(metrics_table, axis=0)\n",
    "\n",
    "    weighted_avg = np.average(metrics_table, axis=0, weights=np.sum(cm, axis=1)/np.sum(cm))\n",
    "\n",
    "    final_met_table = pd.DataFrame(np.vstack((metrics_table, macro_avg, weighted_avg)), columns=['F1 Score', 'TPR', 'FPR', 'TNR', 'FNR'], index=labels + ['Macro Avg', 'Weighted Avg'])\n",
    "\n",
    "    return cm, final_met_table"
   ]
  },
  {
   "cell_type": "code",
   "execution_count": 98,
   "metadata": {},
   "outputs": [],
   "source": [
    "classes_long = ['Normal', 'Disable Unsolicited', 'Cold Restart', 'Warm Restart', 'Data Initialization', 'Replay', 'Stop Application']\n",
    "classes_short = ['Normal', 'Disable', 'Cold', 'Warm', 'Data', 'Replay', 'Stop']"
   ]
  },
  {
   "cell_type": "code",
   "execution_count": 100,
   "metadata": {},
   "outputs": [],
   "source": [
    "cm, final_met_table = calculate_scores_fpr_tpr(y_test, y_pred, classes,classes_long)"
   ]
  },
  {
   "cell_type": "code",
   "execution_count": 104,
   "metadata": {},
   "outputs": [
    {
     "data": {
      "text/html": [
       "<div>\n",
       "<style scoped>\n",
       "    .dataframe tbody tr th:only-of-type {\n",
       "        vertical-align: middle;\n",
       "    }\n",
       "\n",
       "    .dataframe tbody tr th {\n",
       "        vertical-align: top;\n",
       "    }\n",
       "\n",
       "    .dataframe thead th {\n",
       "        text-align: right;\n",
       "    }\n",
       "</style>\n",
       "<table border=\"1\" class=\"dataframe\">\n",
       "  <thead>\n",
       "    <tr style=\"text-align: right;\">\n",
       "      <th></th>\n",
       "      <th>F1 Score</th>\n",
       "      <th>TPR</th>\n",
       "      <th>FPR</th>\n",
       "      <th>TNR</th>\n",
       "      <th>FNR</th>\n",
       "    </tr>\n",
       "  </thead>\n",
       "  <tbody>\n",
       "    <tr>\n",
       "      <th>Normal</th>\n",
       "      <td>99.933521</td>\n",
       "      <td>99.980925</td>\n",
       "      <td>0.050158</td>\n",
       "      <td>99.949842</td>\n",
       "      <td>0.019075</td>\n",
       "    </tr>\n",
       "    <tr>\n",
       "      <th>Disable Unsolicited</th>\n",
       "      <td>100.000000</td>\n",
       "      <td>100.000000</td>\n",
       "      <td>0.000000</td>\n",
       "      <td>100.000000</td>\n",
       "      <td>0.000000</td>\n",
       "    </tr>\n",
       "    <tr>\n",
       "      <th>Cold Restart</th>\n",
       "      <td>100.000000</td>\n",
       "      <td>100.000000</td>\n",
       "      <td>0.000000</td>\n",
       "      <td>100.000000</td>\n",
       "      <td>0.000000</td>\n",
       "    </tr>\n",
       "    <tr>\n",
       "      <th>Warm Restart</th>\n",
       "      <td>100.000000</td>\n",
       "      <td>100.000000</td>\n",
       "      <td>0.000000</td>\n",
       "      <td>100.000000</td>\n",
       "      <td>0.000000</td>\n",
       "    </tr>\n",
       "    <tr>\n",
       "      <th>Data Initialization</th>\n",
       "      <td>100.000000</td>\n",
       "      <td>100.000000</td>\n",
       "      <td>0.000000</td>\n",
       "      <td>100.000000</td>\n",
       "      <td>0.000000</td>\n",
       "    </tr>\n",
       "    <tr>\n",
       "      <th>Replay</th>\n",
       "      <td>90.899725</td>\n",
       "      <td>85.359561</td>\n",
       "      <td>0.005844</td>\n",
       "      <td>99.994156</td>\n",
       "      <td>14.640439</td>\n",
       "    </tr>\n",
       "    <tr>\n",
       "      <th>Stop Application</th>\n",
       "      <td>100.000000</td>\n",
       "      <td>100.000000</td>\n",
       "      <td>0.000000</td>\n",
       "      <td>100.000000</td>\n",
       "      <td>0.000000</td>\n",
       "    </tr>\n",
       "    <tr>\n",
       "      <th>Macro Avg</th>\n",
       "      <td>98.690464</td>\n",
       "      <td>97.905784</td>\n",
       "      <td>0.008000</td>\n",
       "      <td>99.992000</td>\n",
       "      <td>2.094216</td>\n",
       "    </tr>\n",
       "    <tr>\n",
       "      <th>Weighted Avg</th>\n",
       "      <td>99.958033</td>\n",
       "      <td>99.959342</td>\n",
       "      <td>0.015345</td>\n",
       "      <td>99.984655</td>\n",
       "      <td>0.040658</td>\n",
       "    </tr>\n",
       "  </tbody>\n",
       "</table>\n",
       "</div>"
      ],
      "text/plain": [
       "                       F1 Score         TPR       FPR         TNR        FNR\n",
       "Normal                99.933521   99.980925  0.050158   99.949842   0.019075\n",
       "Disable Unsolicited  100.000000  100.000000  0.000000  100.000000   0.000000\n",
       "Cold Restart         100.000000  100.000000  0.000000  100.000000   0.000000\n",
       "Warm Restart         100.000000  100.000000  0.000000  100.000000   0.000000\n",
       "Data Initialization  100.000000  100.000000  0.000000  100.000000   0.000000\n",
       "Replay                90.899725   85.359561  0.005844   99.994156  14.640439\n",
       "Stop Application     100.000000  100.000000  0.000000  100.000000   0.000000\n",
       "Macro Avg             98.690464   97.905784  0.008000   99.992000   2.094216\n",
       "Weighted Avg          99.958033   99.959342  0.015345   99.984655   0.040658"
      ]
     },
     "execution_count": 104,
     "metadata": {},
     "output_type": "execute_result"
    }
   ],
   "source": [
    "final_met_table*100"
   ]
  },
  {
   "cell_type": "code",
   "execution_count": 123,
   "metadata": {},
   "outputs": [
    {
     "name": "stdout",
     "output_type": "stream",
     "text": [
      "{'NORMAL': {'precision': 0.9988716714307206, 'recall': 0.9998393711380053, 'f1-score': 0.9993552870227054, 'support': 398434}, 'DISABLE_UNSOLICITED': {'precision': 1.0, 'recall': 1.0, 'f1-score': 1.0, 'support': 280686}, 'COLD_RESTART': {'precision': 1.0, 'recall': 1.0, 'f1-score': 1.0, 'support': 287102}, 'WARM_RESTART': {'precision': 1.0, 'recall': 1.0, 'f1-score': 1.0, 'support': 288784}, 'INIT_DATA': {'precision': 1.0, 'recall': 1.0, 'f1-score': 1.0, 'support': 34073}, 'REPLAY': {'precision': 0.976427255985267, 'recall': 0.854885520799742, 'f1-score': 0.9116231086657497, 'support': 3101}, 'STOP_APP': {'precision': 1.0, 'recall': 1.0, 'f1-score': 1.0, 'support': 11386}, 'accuracy': 0.999605696988108, 'macro avg': {'precision': 0.996471275345141, 'recall': 0.979246413133964, 'f1-score': 0.9872826279554936, 'support': 1303566}, 'weighted avg': {'precision': 0.9995990509537978, 'recall': 0.999605696988108, 'f1-score': 0.9995927077643763, 'support': 1303566}}\n"
     ]
    }
   ],
   "source": [
    "# visualizing the best RF\n",
    "rf = RandomForestClassifier(n_estimators=3, random_state=42,bootstrap=False, max_leaf_nodes=500)  \n",
    "\n",
    "# Train the model\n",
    "rf.fit(X_train[['srcport', 'dstport', 'tcp.window_size_value', 'ip.len']], y_train)\n",
    "\n",
    "# Make predictions on the test set\n",
    "y_pred_rf = rf.predict(X_test[['srcport', 'dstport', 'tcp.window_size_value', 'ip.len']])\n",
    "\n",
    "# Evaluate the model\n",
    "report = classification_report(y_test, y_pred_rf,target_names=classes, output_dict=True)\n",
    "print(report)\n"
   ]
  },
  {
   "cell_type": "code",
   "execution_count": 124,
   "metadata": {},
   "outputs": [],
   "source": [
    "cm_rf, final_met_table_rf = calculate_scores_fpr_tpr(y_test, y_pred_rf, classes,classes_long)"
   ]
  },
  {
   "cell_type": "code",
   "execution_count": 127,
   "metadata": {},
   "outputs": [],
   "source": [
    "final_met_table_rf.to_csv(\"final_met_table_rf.csv\")"
   ]
  },
  {
   "cell_type": "markdown",
   "metadata": {},
   "source": [
    "##### Plot of number of samples per class"
   ]
  },
  {
   "cell_type": "code",
   "execution_count": 66,
   "metadata": {},
   "outputs": [],
   "source": [
    "pkt_data = pd.concat([df_train, df_test])"
   ]
  },
  {
   "cell_type": "code",
   "execution_count": 67,
   "metadata": {},
   "outputs": [],
   "source": [
    "pkt_data = pkt_data[pkt_data['label'].isin(classes)]"
   ]
  },
  {
   "cell_type": "code",
   "execution_count": 94,
   "metadata": {},
   "outputs": [
    {
     "data": {
      "image/png": "[encoded data removed]",
      "text/plain": [
       "<Figure size 500x400 with 1 Axes>"
      ]
     },
     "metadata": {},
     "output_type": "display_data"
    }
   ],
   "source": [
    "# number of packets per class in data\n",
    "pkt_data_counts = pkt_data['label'].value_counts()\n",
    "\n",
    "# bar plots\n",
    "fig, ax = plt.subplots(figsize=(5, 4))\n",
    "\n",
    "mpl.rcParams['pdf.fonttype'] = 42\n",
    "mpl.rcParams['ps.fonttype'] = 42\n",
    "plt.rcParams['lines.linewidth'] = 4\n",
    "\n",
    "plt.rcParams.update({'font.size': 14, 'axes.labelsize': 14, 'xtick.labelsize': 14, \n",
    "                        'ytick.labelsize': 14, 'legend.fontsize': 14, 'lines.linewidth':3})\n",
    "\n",
    "ax.bar(pkt_data_counts.index, pkt_data_counts.values/(1000000), color='darkred', width=0.6)\n",
    "\n",
    "ax.set_ylabel('Packet Count [Millions]')\n",
    "\n",
    "ax.set_xticklabels(['Normal', 'Disable', 'Warm', 'Cold', 'Data', 'Stop', 'Replay'])\n",
    "\n",
    "plt.xticks(rotation=60)\n",
    "\n",
    "plt.savefig(\"Pkt_Data_Counts.pdf\", bbox_inches='tight')\n",
    "\n",
    "plt.show()"
   ]
  }
 ],
 "metadata": {
  "kernelspec": {
   "display_name": "base",
   "language": "python",
   "name": "python3"
  },
  "language_info": {
   "codemirror_mode": {
    "name": "ipython",
    "version": 3
   },
   "file_extension": ".py",
   "mimetype": "text/x-python",
   "name": "python",
   "nbconvert_exporter": "python",
   "pygments_lexer": "ipython3",
   "version": "undefined.undefined.undefined"
  }
 },
 "nbformat": 4,
 "nbformat_minor": 2
}
